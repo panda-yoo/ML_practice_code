{
 "cells": [
  {
   "cell_type": "code",
   "execution_count": null,
   "metadata": {},
   "outputs": [],
   "source": [
    "import numpy as np\n",
    "import pandas as pd\n",
    "import matplotlib.pyplot as plt\n",
    "import os\n",
    "import seaborn as sns"
   ]
  },
  {
   "cell_type": "code",
   "execution_count": null,
   "metadata": {},
   "outputs": [],
   "source": [
    "PATH = \"./data_sets\"\n",
    "\n",
    "\n",
    "def list_ds():\n",
    "    print(os.listdir(PATH))\n",
    "\n",
    "\n",
    "def get_dataset(ds_name: str) -> pd.DataFrame:\n",
    "    \"\"\"_summary_\n",
    "\n",
    "    Args:\n",
    "        ds_name (str): with .csv\n",
    "\n",
    "    Returns:\n",
    "        pd.DataFrame: _description_\n",
    "    \"\"\"\n",
    "    return pd.read_csv(os.path.join(PATH, ds_name))\n"
   ]
  },
  {
   "cell_type": "code",
   "execution_count": null,
   "metadata": {},
   "outputs": [],
   "source": [
    "df = get_dataset(\"diabetes.csv\")"
   ]
  },
  {
   "cell_type": "code",
   "execution_count": 18,
   "metadata": {},
   "outputs": [],
   "source": [
    "X = df[[\"Glucose\", \"BloodPressure\"]]"
   ]
  },
  {
   "cell_type": "code",
   "execution_count": 11,
   "metadata": {},
   "outputs": [
    {
     "name": "stdout",
     "output_type": "stream",
     "text": [
      "<class 'pandas.core.frame.DataFrame'>\n",
      "RangeIndex: 768 entries, 0 to 767\n",
      "Data columns (total 9 columns):\n",
      " #   Column                    Non-Null Count  Dtype  \n",
      "---  ------                    --------------  -----  \n",
      " 0   Pregnancies               768 non-null    int64  \n",
      " 1   Glucose                   768 non-null    int64  \n",
      " 2   BloodPressure             768 non-null    int64  \n",
      " 3   SkinThickness             768 non-null    int64  \n",
      " 4   Insulin                   768 non-null    int64  \n",
      " 5   BMI                       768 non-null    float64\n",
      " 6   DiabetesPedigreeFunction  768 non-null    float64\n",
      " 7   Age                       768 non-null    int64  \n",
      " 8   Outcome                   768 non-null    int64  \n",
      "dtypes: float64(2), int64(7)\n",
      "memory usage: 54.1 KB\n"
     ]
    }
   ],
   "source": [
    "df.info()"
   ]
  },
  {
   "cell_type": "code",
   "execution_count": 19,
   "metadata": {},
   "outputs": [
    {
     "data": {
      "application/vnd.microsoft.datawrangler.viewer.v0+json": {
       "columns": [
        {
         "name": "index",
         "rawType": "int64",
         "type": "integer"
        },
        {
         "name": "Glucose",
         "rawType": "int64",
         "type": "integer"
        },
        {
         "name": "BloodPressure",
         "rawType": "int64",
         "type": "integer"
        }
       ],
       "conversionMethod": "pd.DataFrame",
       "ref": "ac7acac6-52c3-41a6-a52a-746dea576031",
       "rows": [
        [
         "0",
         "148",
         "72"
        ],
        [
         "1",
         "85",
         "66"
        ],
        [
         "2",
         "183",
         "64"
        ],
        [
         "3",
         "89",
         "66"
        ],
        [
         "4",
         "137",
         "40"
        ],
        [
         "5",
         "116",
         "74"
        ],
        [
         "6",
         "78",
         "50"
        ],
        [
         "7",
         "115",
         "0"
        ],
        [
         "8",
         "197",
         "70"
        ],
        [
         "9",
         "125",
         "96"
        ],
        [
         "10",
         "110",
         "92"
        ],
        [
         "11",
         "168",
         "74"
        ],
        [
         "12",
         "139",
         "80"
        ],
        [
         "13",
         "189",
         "60"
        ],
        [
         "14",
         "166",
         "72"
        ],
        [
         "15",
         "100",
         "0"
        ],
        [
         "16",
         "118",
         "84"
        ],
        [
         "17",
         "107",
         "74"
        ],
        [
         "18",
         "103",
         "30"
        ],
        [
         "19",
         "115",
         "70"
        ],
        [
         "20",
         "126",
         "88"
        ],
        [
         "21",
         "99",
         "84"
        ],
        [
         "22",
         "196",
         "90"
        ],
        [
         "23",
         "119",
         "80"
        ],
        [
         "24",
         "143",
         "94"
        ],
        [
         "25",
         "125",
         "70"
        ],
        [
         "26",
         "147",
         "76"
        ],
        [
         "27",
         "97",
         "66"
        ],
        [
         "28",
         "145",
         "82"
        ],
        [
         "29",
         "117",
         "92"
        ],
        [
         "30",
         "109",
         "75"
        ],
        [
         "31",
         "158",
         "76"
        ],
        [
         "32",
         "88",
         "58"
        ],
        [
         "33",
         "92",
         "92"
        ],
        [
         "34",
         "122",
         "78"
        ],
        [
         "35",
         "103",
         "60"
        ],
        [
         "36",
         "138",
         "76"
        ],
        [
         "37",
         "102",
         "76"
        ],
        [
         "38",
         "90",
         "68"
        ],
        [
         "39",
         "111",
         "72"
        ],
        [
         "40",
         "180",
         "64"
        ],
        [
         "41",
         "133",
         "84"
        ],
        [
         "42",
         "106",
         "92"
        ],
        [
         "43",
         "171",
         "110"
        ],
        [
         "44",
         "159",
         "64"
        ],
        [
         "45",
         "180",
         "66"
        ],
        [
         "46",
         "146",
         "56"
        ],
        [
         "47",
         "71",
         "70"
        ],
        [
         "48",
         "103",
         "66"
        ],
        [
         "49",
         "105",
         "0"
        ]
       ],
       "shape": {
        "columns": 2,
        "rows": 768
       }
      },
      "text/html": [
       "<div>\n",
       "<style scoped>\n",
       "    .dataframe tbody tr th:only-of-type {\n",
       "        vertical-align: middle;\n",
       "    }\n",
       "\n",
       "    .dataframe tbody tr th {\n",
       "        vertical-align: top;\n",
       "    }\n",
       "\n",
       "    .dataframe thead th {\n",
       "        text-align: right;\n",
       "    }\n",
       "</style>\n",
       "<table border=\"1\" class=\"dataframe\">\n",
       "  <thead>\n",
       "    <tr style=\"text-align: right;\">\n",
       "      <th></th>\n",
       "      <th>Glucose</th>\n",
       "      <th>BloodPressure</th>\n",
       "    </tr>\n",
       "  </thead>\n",
       "  <tbody>\n",
       "    <tr>\n",
       "      <th>0</th>\n",
       "      <td>148</td>\n",
       "      <td>72</td>\n",
       "    </tr>\n",
       "    <tr>\n",
       "      <th>1</th>\n",
       "      <td>85</td>\n",
       "      <td>66</td>\n",
       "    </tr>\n",
       "    <tr>\n",
       "      <th>2</th>\n",
       "      <td>183</td>\n",
       "      <td>64</td>\n",
       "    </tr>\n",
       "    <tr>\n",
       "      <th>3</th>\n",
       "      <td>89</td>\n",
       "      <td>66</td>\n",
       "    </tr>\n",
       "    <tr>\n",
       "      <th>4</th>\n",
       "      <td>137</td>\n",
       "      <td>40</td>\n",
       "    </tr>\n",
       "    <tr>\n",
       "      <th>...</th>\n",
       "      <td>...</td>\n",
       "      <td>...</td>\n",
       "    </tr>\n",
       "    <tr>\n",
       "      <th>763</th>\n",
       "      <td>101</td>\n",
       "      <td>76</td>\n",
       "    </tr>\n",
       "    <tr>\n",
       "      <th>764</th>\n",
       "      <td>122</td>\n",
       "      <td>70</td>\n",
       "    </tr>\n",
       "    <tr>\n",
       "      <th>765</th>\n",
       "      <td>121</td>\n",
       "      <td>72</td>\n",
       "    </tr>\n",
       "    <tr>\n",
       "      <th>766</th>\n",
       "      <td>126</td>\n",
       "      <td>60</td>\n",
       "    </tr>\n",
       "    <tr>\n",
       "      <th>767</th>\n",
       "      <td>93</td>\n",
       "      <td>70</td>\n",
       "    </tr>\n",
       "  </tbody>\n",
       "</table>\n",
       "<p>768 rows × 2 columns</p>\n",
       "</div>"
      ],
      "text/plain": [
       "     Glucose  BloodPressure\n",
       "0        148             72\n",
       "1         85             66\n",
       "2        183             64\n",
       "3         89             66\n",
       "4        137             40\n",
       "..       ...            ...\n",
       "763      101             76\n",
       "764      122             70\n",
       "765      121             72\n",
       "766      126             60\n",
       "767       93             70\n",
       "\n",
       "[768 rows x 2 columns]"
      ]
     },
     "execution_count": 19,
     "metadata": {},
     "output_type": "execute_result"
    }
   ],
   "source": [
    "X"
   ]
  },
  {
   "cell_type": "code",
   "execution_count": null,
   "metadata": {},
   "outputs": [],
   "source": [
    "y = lambda x, m, c: m * x + c\n",
    "\n",
    "x_ = np.linspace(1, 5, 10)\n",
    "y_ = y(x_, 2, -3)"
   ]
  },
  {
   "cell_type": "code",
   "execution_count": null,
   "metadata": {},
   "outputs": [],
   "source": [
    "y_hat = y_ + np.random.randint(-2, 2, len(x_)) / 3"
   ]
  },
  {
   "cell_type": "code",
   "execution_count": null,
   "metadata": {},
   "outputs": [
    {
     "data": {
      "text/plain": [
       "<matplotlib.collections.PathCollection at 0x1c8113b3f50>"
      ]
     },
     "execution_count": 31,
     "metadata": {},
     "output_type": "execute_result"
    },
    {
     "data": {
      "image/png": "[encoded data removed]",
      "text/plain": [
       "<Figure size 640x480 with 1 Axes>"
      ]
     },
     "metadata": {},
     "output_type": "display_data"
    }
   ],
   "source": [
    "plt.plot(x_, y_)\n",
    "plt.scatter(x_, y_hat)"
   ]
  },
  {
   "cell_type": "code",
   "execution_count": 41,
   "metadata": {},
   "outputs": [],
   "source": [
    "n = len(x_)\n",
    "bt1 = (np.sum(x_*y_hat) - n * np.mean(x_)*np.mean(y_hat)) / ((np.sum(x_**2)) - n * np.mean(x_)**2)"
   ]
  },
  {
   "cell_type": "code",
   "execution_count": 42,
   "metadata": {},
   "outputs": [],
   "source": [
    "bt0 = np.mean(y_hat) - bt1 * np.mean(x_)"
   ]
  },
  {
   "cell_type": "code",
   "execution_count": 43,
   "metadata": {},
   "outputs": [
    {
     "data": {
      "text/plain": [
       "np.float64(-3.095454545454545)"
      ]
     },
     "execution_count": 43,
     "metadata": {},
     "output_type": "execute_result"
    }
   ],
   "source": [
    "bt0"
   ]
  },
  {
   "cell_type": "code",
   "execution_count": null,
   "metadata": {},
   "outputs": [],
   "source": []
  }
 ],
 "metadata": {
  "kernelspec": {
   "display_name": "env_mh",
   "language": "python",
   "name": "python3"
  },
  "language_info": {
   "codemirror_mode": {
    "name": "ipython",
    "version": 3
   },
   "file_extension": ".py",
   "mimetype": "text/x-python",
   "name": "python",
   "nbconvert_exporter": "python",
   "pygments_lexer": "ipython3",
   "version": "3.12.8"
  }
 },
 "nbformat": 4,
 "nbformat_minor": 2
}
