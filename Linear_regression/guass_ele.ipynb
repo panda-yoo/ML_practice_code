{
 "cells": [
  {
   "cell_type": "code",
   "execution_count": null,
   "metadata": {},
   "outputs": [],
   "source": [
    "from numpy import array, zeros, float32"
   ]
  },
  {
   "cell_type": "code",
   "execution_count": null,
   "metadata": {},
   "outputs": [],
   "source": [
    "def upper_tri_matrix(a: list, b: list) -> list:\n",
    "    \"\"\"_summary_\n",
    "\n",
    "    Args:\n",
    "        a (list): 2 d list\n",
    "        b (list): 1 d list\n",
    "    \"\"\"\n",
    "    a = array(a, dtype=float32)\n",
    "    b = array(b, dtype=float32)\n",
    "\n",
    "    for k in range(len(b) - 1):\n",
    "        for i in range(k + 1, len(b)):\n",
    "            coff = a[i, k] / a[k, k]\n",
    "\n",
    "            for j in range(k, len(b)):\n",
    "                a[i, j] = a[i, j] - coff * a[k, j]\n",
    "\n",
    "            b[i] = b[i] - coff * b[k]\n",
    "\n",
    "    return a, b\n",
    "\n",
    "\n",
    "def vals(a, b):\n",
    "    n = len(b)\n",
    "    x = zeros(n, dtype=float32)\n",
    "    x[n - 1] = b[n - 1] / a[n - 1, n - 1]\n",
    "    for i in range(n - 2, -1, -1):\n",
    "        sum_ = b[i]\n",
    "        for j in range(i + 1, n):\n",
    "            sum_ = sum_ - a[i, j] * x[j]\n",
    "\n",
    "        x[i] = sum_ / a[i, i]\n",
    "\n",
    "    return x"
   ]
  },
  {
   "cell_type": "code",
   "execution_count": null,
   "metadata": {},
   "outputs": [],
   "source": [
    "from numpy import float32, array, append, copy, zeros, abs, shape, empty\n",
    "\n",
    "\n",
    "class GuassEle:\n",
    "    def __init__(self, A: list[list[float]], b: list[float]):\n",
    "        \"\"\"A x = b\n",
    "\n",
    "        Args:\n",
    "            A (list[list[float]]): 2 d square matrix\n",
    "            b (list[float]): 1 d matrix or vector\n",
    "        \"\"\"\n",
    "        self.A = array(A, dtype=float32)\n",
    "        self.b = array(b, dtype=float32)\n",
    "        self.solutions = self.vals()\n",
    "        self.A_upper = self.upper_triangular_mtx()[0]\n",
    "        self.b_upper = self.upper_triangular_mtx()[1]\n",
    "\n",
    "    def upper_triangular_mtx(self):\n",
    "        A = self.A.copy()\n",
    "        b = self.b.copy()\n",
    "\n",
    "        n = b.shape[0]\n",
    "        for i in range(0, n - 1):\n",
    "            if abs(A[i, i]) == 0:\n",
    "                for k in range(i + 1, n):\n",
    "                    if abs(A[k, i]) > abs(A[i, i]):\n",
    "                        A[[i, k]] = A[[k, i]]\n",
    "                        b[[i, k]] = b[[k, i]]\n",
    "                        break\n",
    "\n",
    "            for j in range(i + 1, n):\n",
    "                m = A[j, i] / A[i, i]\n",
    "                A[j, :] = A[j, :] - m * A[i, :]\n",
    "                b[j] = b[j] - m * b[i]\n",
    "\n",
    "        return A, b\n",
    "\n",
    "    def __str__(self):\n",
    "        return f\"A -> {self.A}\\nb -> {self.b}\\nsolutions -> {self.solutions}\\nA upper -> \\n{self.A_upper}\\nb_upper -> {self.b_upper}\"\n",
    "\n",
    "    def vals(self):\n",
    "        A = self.upper_triangular_mtx()[0]\n",
    "        b = self.upper_triangular_mtx()[1]\n",
    "\n",
    "        n = b.shape[0]\n",
    "        x = zeros(n, dtype=float32)\n",
    "        x[n - 1] = b[n - 1] / A[n - 1, n - 1]\n",
    "        for i in range(n - 2, -1, -1):\n",
    "            sum_ = b[i]\n",
    "            for j in range(i + 1, n):\n",
    "                sum_ = sum_ - A[i, j] * x[j]\n",
    "\n",
    "            x[i] = sum_ / A[i, i]\n",
    "\n",
    "        return x"
   ]
  },
  {
   "cell_type": "code",
   "execution_count": 39,
   "metadata": {},
   "outputs": [
    {
     "name": "stdout",
     "output_type": "stream",
     "text": [
      "A -> [[ 1.  2. -1.  1.]\n",
      " [-1.  1.  2. -1.]\n",
      " [ 2. -1.  2.  2.]\n",
      " [ 1.  1. -1.  2.]]\n",
      "b -> [ 6.  3. 14.  8.]\n",
      "solutions -> [1. 2. 3. 4.]\n",
      "A upper -> \n",
      "[[ 1.         2.        -1.         1.       ]\n",
      " [ 0.         3.         1.         0.       ]\n",
      " [ 0.         0.         5.6666665  0.       ]\n",
      " [ 0.         0.         0.         1.       ]]\n",
      "b_upper -> [ 6.  9. 17.  4.]\n"
     ]
    }
   ],
   "source": [
    "A = [[1, 2, -1, 1], [-1, 1, 2, -1], [2, -1, 2, 2], [1, 1, -1, 2]]\n",
    "b = [6, 3, 14, 8]\n",
    "\n",
    "vv = GuassEle(A, b)\n",
    "vv.solutions\n",
    "print(vv)"
   ]
  },
  {
   "cell_type": "code",
   "execution_count": null,
   "metadata": {},
   "outputs": [],
   "source": [
    "def solutions(a: list, b: list) -> list:\n",
    "    a, b = upper_tri_matrix(a, b)\n",
    "    return vals(a, b)\n"
   ]
  },
  {
   "cell_type": "code",
   "execution_count": null,
   "metadata": {},
   "outputs": [
    {
     "data": {
      "text/plain": [
       "array([1., 2., 3., 4.], dtype=float32)"
      ]
     },
     "execution_count": 23,
     "metadata": {},
     "output_type": "execute_result"
    }
   ],
   "source": [
    "a = [[1, 2, -1, 1], [-1, 1, 2, -1], [2, -1, 2, 2], [1, 1, -1, 2]]\n",
    "b = [6, 3, 14, 8]\n",
    "\n",
    "solutions(a, b)"
   ]
  },
  {
   "cell_type": "code",
   "execution_count": null,
   "metadata": {},
   "outputs": [],
   "source": [
    "import torch as th"
   ]
  },
  {
   "cell_type": "code",
   "execution_count": null,
   "metadata": {},
   "outputs": [],
   "source": [
    "x = th.tensor(2.0, requires_grad=True)\n",
    "\n",
    "y = th.tensor(4.0)\n",
    "\n",
    "y = x**2\n",
    "f = th.sigmoid(y)\n"
   ]
  },
  {
   "cell_type": "code",
   "execution_count": 41,
   "metadata": {},
   "outputs": [],
   "source": [
    "f.backward()"
   ]
  },
  {
   "cell_type": "code",
   "execution_count": 46,
   "metadata": {},
   "outputs": [
    {
     "data": {
      "text/plain": [
       "<bound method Tensor.backward of tensor(4., grad_fn=<PowBackward0>)>"
      ]
     },
     "execution_count": 46,
     "metadata": {},
     "output_type": "execute_result"
    }
   ],
   "source": [
    "y.backward"
   ]
  },
  {
   "cell_type": "code",
   "execution_count": null,
   "metadata": {},
   "outputs": [
    {
     "data": {
      "text/plain": [
       "(tensor(2., requires_grad=True),\n",
       " tensor(4., grad_fn=<PowBackward0>),\n",
       " tensor(0.9820, grad_fn=<SigmoidBackward0>))"
      ]
     },
     "execution_count": 42,
     "metadata": {},
     "output_type": "execute_result"
    }
   ],
   "source": [
    "x, y, f"
   ]
  },
  {
   "cell_type": "code",
   "execution_count": null,
   "metadata": {},
   "outputs": [
    {
     "data": {
      "text/plain": [
       "tensor(0.0707, grad_fn=<MulBackward0>)"
      ]
     },
     "execution_count": 49,
     "metadata": {},
     "output_type": "execute_result"
    }
   ],
   "source": [
    "f * (1 - f) * 2 * x"
   ]
  },
  {
   "cell_type": "code",
   "execution_count": 48,
   "metadata": {},
   "outputs": [
    {
     "data": {
      "text/plain": [
       "0.0708"
      ]
     },
     "execution_count": 48,
     "metadata": {},
     "output_type": "execute_result"
    }
   ],
   "source": [
    "0.0177 * 4"
   ]
  },
  {
   "cell_type": "code",
   "execution_count": 35,
   "metadata": {},
   "outputs": [
    {
     "data": {
      "text/plain": [
       "tensor(2.)"
      ]
     },
     "execution_count": 35,
     "metadata": {},
     "output_type": "execute_result"
    }
   ],
   "source": [
    "x.detach()"
   ]
  },
  {
   "cell_type": "code",
   "execution_count": null,
   "metadata": {},
   "outputs": [],
   "source": []
  }
 ],
 "metadata": {
  "kernelspec": {
   "display_name": "env_mh",
   "language": "python",
   "name": "python3"
  },
  "language_info": {
   "codemirror_mode": {
    "name": "ipython",
    "version": 3
   },
   "file_extension": ".py",
   "mimetype": "text/x-python",
   "name": "python",
   "nbconvert_exporter": "python",
   "pygments_lexer": "ipython3",
   "version": "3.12.8"
  }
 },
 "nbformat": 4,
 "nbformat_minor": 2
}
