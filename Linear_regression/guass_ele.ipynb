{
 "cells": [
  {
   "cell_type": "code",
   "execution_count": null,
   "metadata": {},
   "outputs": [],
   "source": [
    "from numpy import array, zeros, float32"
   ]
  },
  {
   "cell_type": "code",
   "execution_count": null,
   "metadata": {},
   "outputs": [],
   "source": [
    "def upper_tri_matrix(a: list, b: list) -> list:\n",
    "    \"\"\"_summary_\n",
    "\n",
    "    Args:\n",
    "        a (list): 2 d list\n",
    "        b (list): 1 d list\n",
    "    \"\"\"\n",
    "    a = array(a, dtype=float32)\n",
    "    b = array(b, dtype=float32)\n",
    "\n",
    "    for k in range(len(b) - 1):\n",
    "        for i in range(k + 1, len(b)):\n",
    "            coff = a[i, k] / a[k, k]\n",
    "\n",
    "            for j in range(k, len(b)):\n",
    "                a[i, j] = a[i, j] - coff * a[k, j]\n",
    "\n",
    "            b[i] = b[i] - coff * b[k]\n",
    "\n",
    "    return a, b\n",
    "\n",
    "\n",
    "def vals(a, b):\n",
    "    n = len(b)\n",
    "    x = zeros(n, dtype=float32)\n",
    "    x[n - 1] = b[n - 1] / a[n - 1, n - 1]\n",
    "    for i in range(n - 2, -1, -1):\n",
    "        sum_ = b[i]\n",
    "        for j in range(i + 1, n):\n",
    "            sum_ = sum_ - a[i, j] * x[j]\n",
    "\n",
    "        x[i] = sum_ / a[i, i]\n",
    "\n",
    "    return x"
   ]
  },
  {
   "cell_type": "code",
   "execution_count": null,
   "metadata": {},
   "outputs": [],
   "source": [
    "def solutions(a: list, b: list) -> list:\n",
    "    a, b = upper_tri_matrix(a, b)\n",
    "    return vals(a, b)\n"
   ]
  },
  {
   "cell_type": "code",
   "execution_count": null,
   "metadata": {},
   "outputs": [
    {
     "data": {
      "text/plain": [
       "array([1., 2., 3., 4.], dtype=float32)"
      ]
     },
     "execution_count": 23,
     "metadata": {},
     "output_type": "execute_result"
    }
   ],
   "source": [
    "a = [[1, 2, -1, 1], [-1, 1, 2, -1], [2, -1, 2, 2], [1, 1, -1, 2]]\n",
    "b = [6, 3, 14, 8]\n",
    "\n",
    "solutions(a, b)"
   ]
  },
  {
   "cell_type": "code",
   "execution_count": null,
   "metadata": {},
   "outputs": [],
   "source": []
  }
 ],
 "metadata": {
  "kernelspec": {
   "display_name": "env_mh",
   "language": "python",
   "name": "python3"
  },
  "language_info": {
   "codemirror_mode": {
    "name": "ipython",
    "version": 3
   },
   "file_extension": ".py",
   "mimetype": "text/x-python",
   "name": "python",
   "nbconvert_exporter": "python",
   "pygments_lexer": "ipython3",
   "version": "3.12.8"
  }
 },
 "nbformat": 4,
 "nbformat_minor": 2
}
