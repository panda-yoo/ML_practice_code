{
  "nbformat": 4,
  "nbformat_minor": 0,
  "metadata": {
    "colab": {
      "provenance": [],
      "include_colab_link": true
    },
    "kernelspec": {
      "name": "python3",
      "display_name": "Python 3"
    },
    "language_info": {
      "name": "python"
    }
  },
  "cells": [
    {
      "cell_type": "markdown",
      "metadata": {
        "id": "view-in-github",
        "colab_type": "text"
      },
      "source": [
        "<a href=\"https://colab.research.google.com/github/panda-yoo/ML_practice_code/blob/master/2d_heat_equation_PINN.ipynb\" target=\"_parent\"><img src=\"https://colab.research.google.com/assets/colab-badge.svg\" alt=\"Open In Colab\"/></a>"
      ]
    },
    {
      "cell_type": "code",
      "execution_count": null,
      "metadata": {
        "id": "zW92Eg8av49k"
      },
      "outputs": [],
      "source": [
        "import torch as th\n",
        "import torch.nn as nn\n",
        "import torch.optim as optim\n",
        "import matplotlib.pyplot as plt\n",
        "import seaborn as sns"
      ]
    },
    {
      "cell_type": "markdown",
      "source": [
        "$\\alpha^2$($\\frac{\\partial{^2u}}{\\partial{x^2}}$+$\\frac{\\partial{^2u}}{\\partial{y^2}}$) = $\\frac{\\partial{u}}{\\partial{t}}$"
      ],
      "metadata": {
        "id": "GEIpgSsSxBkl"
      }
    },
    {
      "cell_type": "code",
      "source": [
        "pi = th.pi"
      ],
      "metadata": {
        "id": "HApd1jdK0xFW"
      },
      "execution_count": null,
      "outputs": []
    },
    {
      "cell_type": "code",
      "source": [
        "class PINN(nn.Module):\n",
        "    def __init__(self) :\n",
        "        super().__init__()\n",
        "\n",
        "        self.net = nn.Sequential(nn.Linear(3,64),\n",
        "                                 nn.Tanh(),\n",
        "                                 nn.Linear(64,64),\n",
        "                                 nn.Tanh(),\n",
        "                                 nn.Linear(64,1),\n",
        "          )\n",
        "    def forward(self,x):\n",
        "        return self.net(x)\n",
        "\n",
        "\n"
      ],
      "metadata": {
        "id": "HIZbwI6bxBIN"
      },
      "execution_count": null,
      "outputs": []
    },
    {
      "cell_type": "code",
      "source": [
        "# def initial_condition(x,y):\n",
        "#     return th.sin(pi*x) * th.sin(pi*y)\n",
        "\n",
        "def initial_condition(x,y):\n",
        "    ten = th.zeros_like(x)\n",
        "    ten[x.shape[0]//2] = 10\n",
        "    return ten\n",
        "\n",
        "def boundary_condition(x,y,t,custom_values):\n",
        "\n",
        "    return th.full_like(input = x ,fill_value=custom_values)\n",
        "\n",
        "def generate_training_points(num_points):\n",
        "    x = th.rand(size = (num_points, 1 ),requires_grad=True)\n",
        "    y = th.rand(size = (num_points, 1 ),requires_grad=True)\n",
        "    t = th.rand(size = (num_points, 1 ),requires_grad=True)\n",
        "    return x,y,t\n",
        "\n",
        "def generate_boundary_points(num_points):\n",
        "    x_boundary = th.tensor([0.0 , 1.0]).repeat(num_points//2)\n",
        "    y_boundary = th.rand(num_points)\n",
        "\n",
        "    if th.rand(1) > 0.5 :\n",
        "        x_boundary,y_boundary = y_boundary ,x_boundary\n",
        "\n",
        "    return x_boundary.view(-1,1) , y_boundary.view(-1,1)\n",
        "\n",
        "def generate_boundary_training_data(num_points):\n",
        "\n",
        "    x_boundary,y_boundary = generate_boundary_points(num_points=num_points)\n",
        "    t = th.rand(size=(num_points,1) , requires_grad=True)\n",
        "\n",
        "    return x_boundary,y_boundary,t\n",
        "\n",
        "\n",
        "def pde(model,x,y,t):\n",
        "    input_data = th.cat([x,y,t] , dim=1)\n",
        "    u = model(input_data)\n",
        "\n",
        "    u_x = th.autograd.grad(u,x,grad_outputs=th.ones_like(u),create_graph=True,retain_graph=True)[0]\n",
        "    u_xx = th.autograd.grad(u_x,x,grad_outputs=th.ones_like(u),create_graph=True,retain_graph=True)[0]\n",
        "\n",
        "\n",
        "    u_y = th.autograd.grad(u,y,grad_outputs=th.ones_like(u),create_graph=True,retain_graph=True)[0]\n",
        "    u_yy = th.autograd.grad(u_y,x,grad_outputs=th.ones_like(u),create_graph=True,retain_graph=True)[0]\n",
        "\n",
        "    u_t = th.autograd.grad(u,t,grad_outputs=th.ones_like(u),create_graph=True,retain_graph=True)[0]\n",
        "\n",
        "    heat_eq_residual = 1 * u_xx + u_yy - u_t\n",
        "    return heat_eq_residual\n",
        "\n"
      ],
      "metadata": {
        "id": "I-QbBdrQwQKD"
      },
      "execution_count": null,
      "outputs": []
    },
    {
      "cell_type": "code",
      "source": [
        "def train_PINN(model, num_iterations, num_points):\n",
        "    optimizer = optim.Adam(model.parameters(), lr=1e-3)\n",
        "\n",
        "    for  iteration in range(num_iterations):\n",
        "        optimizer.zero_grad()\n",
        "\n",
        "        x,y,t = generate_training_points(num_points)\n",
        "\n",
        "        x_b,y_b,t_b = generate_boundary_training_data(num_points)\n",
        "\n",
        "        t_intial = th.zeros_like(t)\n",
        "        u_intial = initial_condition(x,y)\n",
        "\n",
        "        custom_value = 0\n",
        "        u_boundary_x = boundary_condition(x_b,y_b,t_b,custom_value)\n",
        "        u_boundary_y = boundary_condition(y_b,x_b,t_b,custom_value)\n",
        "\n",
        "        residual = pde(model,x,y,t)\n",
        "\n",
        "        loss =  nn.MSELoss()(u_intial, model(th.cat([x,y,t_intial], dim=1))) + \\\n",
        "                nn.MSELoss()(u_boundary_x, model(th.cat([x_b,y_b,t_b], dim=1))) + \\\n",
        "                nn.MSELoss()(u_boundary_y, model(th.cat([y_b,x_b,t_b], dim=1))) + \\\n",
        "                nn.MSELoss()(residual, th.zeros_like(residual))\n",
        "\n",
        "        loss.backward()\n",
        "        optimizer.step()\n",
        "\n",
        "        if iteration % 1000 ==0:\n",
        "            print(\"iteration\",iteration, \"loss\",loss.item() )"
      ],
      "metadata": {
        "id": "xex62TC_POvg"
      },
      "execution_count": null,
      "outputs": []
    },
    {
      "cell_type": "code",
      "source": [
        "\n",
        "model = PINN()\n",
        "num_iterations = 10_000\n",
        "num_points = 1000\n",
        "\n",
        "\n",
        "\n",
        "train_PINN(model=model,num_iterations=num_iterations,num_points=num_points)"
      ],
      "metadata": {
        "colab": {
          "base_uri": "https://localhost:8080/"
        },
        "id": "uKwq1jBN9XZB",
        "outputId": "f33271be-f3b0-48ea-80b9-694d1e1c1a87"
      },
      "execution_count": null,
      "outputs": [
        {
          "output_type": "stream",
          "name": "stdout",
          "text": [
            "iteration 0 loss 0.12342846393585205\n",
            "iteration 1000 loss 0.09991292655467987\n",
            "iteration 2000 loss 0.09995511174201965\n",
            "iteration 3000 loss 0.09990163147449493\n",
            "iteration 4000 loss 0.09990790486335754\n",
            "iteration 5000 loss 0.09990222007036209\n",
            "iteration 6000 loss 0.0999424085021019\n",
            "iteration 7000 loss 0.09994953870773315\n",
            "iteration 8000 loss 0.09990327060222626\n",
            "iteration 9000 loss 0.09992013871669769\n"
          ]
        }
      ]
    },
    {
      "cell_type": "code",
      "source": [
        "\n",
        "with th.no_grad():\n",
        "\n",
        "    x = th.linspace(0,1,100)\n",
        "    y = th.linspace(0,1,100)\n",
        "\n",
        "    x,y = th.meshgrid(x,y)\n",
        "    t = .0 * th.ones_like(x)\n",
        "\n",
        "\n",
        "    inputs = th.stack([x.flatten() ,y.flatten() , t.flatten() ],dim=1)\n",
        "    u = model(inputs).reshape(x.shape ,y.shape )\n",
        "\n",
        "    # plt.contourf(x,y,u,levels =0)\n",
        "    # plt.colorbar()\n",
        "\n",
        "    plt.plot(x,u[89,:])\n",
        "    # print(u)\n",
        "    sns.heatmap(u,cmap='jet')"
      ],
      "metadata": {
        "colab": {
          "base_uri": "https://localhost:8080/",
          "height": 439
        },
        "id": "XIKPWQP99XXK",
        "outputId": "13ef1f4f-e8a9-43ad-8e45-37c2cf94cb9f"
      },
      "execution_count": null,
      "outputs": [
        {
          "output_type": "display_data",
          "data": {
            "text/plain": [
              "<Figure size 640x480 with 2 Axes>"
            ],
            "image/png": "[encoded data removed]"
          },
          "metadata": {}
        }
      ]
    },
    {
      "cell_type": "code",
      "source": [],
      "metadata": {
        "id": "jcIDVJEkRsXZ"
      },
      "execution_count": null,
      "outputs": []
    },
    {
      "cell_type": "code",
      "source": [
        "num_points = 16\n",
        "# th.rand(size =(num_points,1) ,requires_grad=True)\n",
        "th.tensor([0.0 , 1.0]).repeat(num_points//2), th.rand(num_points)\n"
      ],
      "metadata": {
        "colab": {
          "base_uri": "https://localhost:8080/"
        },
        "id": "dp-CcpbW6SBk",
        "outputId": "59ca5c0a-81c3-4d7f-b922-2d7e5bf0b78f"
      },
      "execution_count": null,
      "outputs": [
        {
          "output_type": "execute_result",
          "data": {
            "text/plain": [
              "(tensor([0., 1., 0., 1., 0., 1., 0., 1., 0., 1., 0., 1., 0., 1., 0., 1.]),\n",
              " tensor([0.7557, 0.1467, 0.1204, 0.5670, 0.8449, 0.0826, 0.1257, 0.9903, 0.6847,\n",
              "         0.1054, 0.9689, 0.8862, 0.8298, 0.3157, 0.4203, 0.5096]))"
            ]
          },
          "metadata": {},
          "execution_count": 8
        }
      ]
    },
    {
      "cell_type": "code",
      "source": [
        "x_boundary = th.tensor([0.0 , 1.0]).repeat(num_points//2)\n",
        "y_boundary = th.rand(num_points)\n",
        "\n",
        "if th.rand(1) > 0.5 :\n",
        "    x_boundary,y_boundary = y_boundary ,x_boundary\n",
        "\n",
        "x_boundary,y_boundary"
      ],
      "metadata": {
        "colab": {
          "base_uri": "https://localhost:8080/"
        },
        "id": "by3bmHNq8DW7",
        "outputId": "b20140fd-508a-4c1f-fab3-c0fb43b7e67f"
      },
      "execution_count": null,
      "outputs": [
        {
          "output_type": "execute_result",
          "data": {
            "text/plain": [
              "(tensor([0.6494, 0.4759, 0.7789, 0.1493, 0.6140, 0.1879, 0.1001, 0.8466, 0.5360,\n",
              "         0.0690, 0.0520, 0.3688, 0.6589, 0.3581, 0.7468, 0.5253]),\n",
              " tensor([0., 1., 0., 1., 0., 1., 0., 1., 0., 1., 0., 1., 0., 1., 0., 1.]))"
            ]
          },
          "metadata": {},
          "execution_count": 17
        }
      ]
    },
    {
      "cell_type": "code",
      "source": [],
      "metadata": {
        "id": "7R1uy39E8Liz"
      },
      "execution_count": null,
      "outputs": []
    }
  ]
}